{
 "cells": [
  {
   "cell_type": "markdown",
   "id": "760b0485-4806-4c1d-87c1-416636fd72f3",
   "metadata": {},
   "source": [
    "# 2) Geospatial Analysis with GeoPandas"
   ]
  },
  {
   "cell_type": "markdown",
   "id": "2950982d-dd5c-49cf-a256-639b87187a67",
   "metadata": {},
   "source": [
    "### Task 1: Static Maps — Hospital Count by District"
   ]
  },
  {
   "cell_type": "code",
   "execution_count": null,
   "id": "ffd0f020-6532-4ccc-9ab8-b60d07e38864",
   "metadata": {},
   "outputs": [],
   "source": [
    "import pandas as pd\n",
    "import geopandas as gpd\n",
    "import numpy as np\n",
    "import matplotlib.pyplot as plt\n",
    "import seaborn as sns\n",
    "import folium\n",
    "from folium import plugins\n",
    "from shapely.geometry import Point"
   ]
  },
  {
   "cell_type": "code",
   "execution_count": null,
   "id": "25c38174-bdfa-4ece-8aab-7d1caadb098c",
   "metadata": {},
   "outputs": [],
   "source": [
    "districts = gpd.read_file(r'C:/Users/Carla HL/Desktop/DIPLOMATURA Q-LAB/PYTHON INTERMEDIO/TAREA 2/dist_shape_file/DISTRITOS.shp')\n",
    "districts.head(5)"
   ]
  },
  {
   "cell_type": "code",
   "execution_count": null,
   "id": "4eebfb8b-a860-4bd1-85a7-7d0265caf7cc",
   "metadata": {},
   "outputs": [],
   "source": [
    "#Check unique values\n",
    "districts['IDDIST'].is_unique"
   ]
  },
  {
   "cell_type": "code",
   "execution_count": null,
   "id": "74c07bad-643e-4f2f-9c64-11a54576985b",
   "metadata": {},
   "outputs": [],
   "source": [
    "# Select only relevant columns\n",
    "districts = districts[['IDDIST', 'geometry']]\n",
    "districts = districts.rename({'IDDIST':'UBIGEO'}, axis =1 )"
   ]
  },
  {
   "cell_type": "code",
   "execution_count": null,
   "id": "61c55cfb-0264-44e1-854c-f0d15133da8d",
   "metadata": {},
   "outputs": [],
   "source": [
    "districts['UBIGEO'] = districts['UBIGEO'].astype(str).astype(int)\n",
    "districts.head(5)"
   ]
  },
  {
   "cell_type": "code",
   "execution_count": null,
   "id": "08e7db89-8504-4bb8-9a28-0e2756df8694",
   "metadata": {},
   "outputs": [],
   "source": [
    "# Ensure the dataset is in WGS-84 (EPSG:4326)\n",
    "districts = districts.to_crs(epsg=4326)\n",
    "districts.crs"
   ]
  },
  {
   "cell_type": "markdown",
   "id": "eec864ee-151b-487f-b45f-ca13d283b725",
   "metadata": {},
   "source": [
    "##### Data: Hospitales"
   ]
  },
  {
   "cell_type": "code",
   "execution_count": null,
   "id": "219b5497-6e08-46f8-9f91-299fdd130fc4",
   "metadata": {},
   "outputs": [],
   "source": [
    "hospitals=pd.read_csv(r'C:/Users/Carla HL/Desktop/DIPLOMATURA Q-LAB/PYTHON INTERMEDIO/TAREA 2/IPRESS.csv', encoding='latin-1')\n",
    "hospitals.head(5)"
   ]
  },
  {
   "cell_type": "code",
   "execution_count": null,
   "id": "4be6f621-50f0-41a5-b2a0-e56a5350632d",
   "metadata": {},
   "outputs": [],
   "source": [
    "# Filtros: hospitales EN FUNCIONAMIENTO con coordenadas válidas\n",
    "operational_hospitals = hospitals[hospitals['Condición'] == 'EN FUNCIONAMIENTO'].copy()\n",
    "operational_hospitals = operational_hospitals.dropna(subset=['NORTE', 'ESTE'])\n",
    "\n",
    "# Se obtiene el número de hospitales por distrito\n",
    "operational_hospitals[\"n_hospitals_distr\"]=operational_hospitals.groupby('UBIGEO')['UBIGEO'].transform(\"count\")\n",
    "operational_hospitals.head(5)"
   ]
  },
  {
   "cell_type": "code",
   "execution_count": null,
   "id": "15f5af99-d35f-4775-815d-486654402c4a",
   "metadata": {},
   "outputs": [],
   "source": [
    "# Merge left: para mantener todos los distritos\n",
    "hospitals_distr = pd.merge(districts, operational_hospitals, how=\"left\", on=\"UBIGEO\")\n",
    "\n",
    "# Se asigna 0 a los distritos en los que no hay registro de hospitales en funcionamiento \n",
    "hospitals_distr[\"n_hospitals_distr\"]=hospitals_distr[\"n_hospitals_distr\"].fillna(0).astype(int)"
   ]
  },
  {
   "cell_type": "markdown",
   "id": "3b3cb6dc-edfa-4819-bc1a-3c1a0431ee1e",
   "metadata": {},
   "source": [
    "##### MAP 1: Total public hospitals per district"
   ]
  },
  {
   "cell_type": "code",
   "execution_count": null,
   "id": "2fa2ac4f-06c9-4980-8bb6-e32135cfdb65",
   "metadata": {},
   "outputs": [],
   "source": [
    "fig, ax = plt.subplots(1, 1, figsize=(12, 10))\n",
    "\n",
    "hospitals_distr.plot(column='n_hospitals_distr', \n",
    "                          cmap='Blues', \n",
    "                          legend=True,\n",
    "                          ax=ax,\n",
    "                          edgecolor='black',\n",
    "                          linewidth=0.1)\n",
    "\n",
    "ax.set_title('Total public hospitals per district', fontsize=14)\n",
    "ax.set_xlabel('Longitud', fontsize=10)\n",
    "ax.set_ylabel('Latitud', fontsize=10)\n",
    "\n",
    "# Add colorbar label\n",
    "cbar = ax.get_figure().get_axes()[-1]\n",
    "cbar.set_ylabel('Number of Hospitals', rotation=270, labelpad=20)\n",
    "\n",
    "plt.tight_layout()\n",
    "plt.show()"
   ]
  },
  {
   "cell_type": "markdown",
   "id": "63122e29-d3e1-4505-ba35-9c3bb4b74607",
   "metadata": {},
   "source": [
    "##### MAP 2: Highlight districts with zero hospitals"
   ]
  },
  {
   "cell_type": "code",
   "execution_count": null,
   "id": "4f7d3610-f268-4c75-a795-a28f1975c97c",
   "metadata": {},
   "outputs": [],
   "source": [
    "fig, ax = plt.subplots(1, 1, figsize=(12, 10))\n",
    "\n",
    "# Plotear todos los distritos en gris claro como referencia\n",
    "hospitals_distr.plot(\n",
    "    color=\"lightgrey\",\n",
    "    edgecolor=\"black\",\n",
    "    linewidth=0.1,\n",
    "    ax=ax\n",
    ")\n",
    "\n",
    "# Resaltar en rojo los distritos con 0 hospitales\n",
    "hospitals_distr[hospitals_distr[\"n_hospitals_distr\"] == 0].plot(\n",
    "    color=\"red\",\n",
    "    edgecolor=\"black\",\n",
    "    linewidth=0.3,\n",
    "    ax=ax,\n",
    ")\n",
    "\n",
    "ax.set_title(\"Districts with zero hospitals\", fontsize=14)\n",
    "ax.set_xlabel(\"Longitude\", fontsize=10)\n",
    "ax.set_ylabel(\"Latitude\", fontsize=10)\n",
    "\n",
    "plt.tight_layout()\n",
    "plt.show()"
   ]
  },
  {
   "cell_type": "markdown",
   "id": "92185db1-7dcb-4be9-a38a-b87513aec3fc",
   "metadata": {},
   "source": [
    "##### Map 3: Top 10 districts with the highest number of hospitals"
   ]
  },
  {
   "cell_type": "code",
   "execution_count": null,
   "id": "cf13434e-af81-4f5c-bb4b-8b144a022711",
   "metadata": {},
   "outputs": [],
   "source": [
    "# Seleccionar top 10 distritos\n",
    "by_distr = (\n",
    "    hospitals_distr[[\"UBIGEO\", \"geometry\", \"n_hospitals_distr\"]]\n",
    "    .drop_duplicates(subset=\"UBIGEO\")\n",
    ")\n",
    "top10 = by_distr.nlargest(10, \"n_hospitals_distr\")\n",
    "\n",
    "# Graficar todos los distritos como fondo en gris claro\n",
    "fig, ax = plt.subplots(1, 1, figsize=(12, 10))\n",
    "hospitals_distr.plot(\n",
    "    color=\"lightgrey\",\n",
    "    edgecolor=\"black\",\n",
    "    linewidth=0.1,\n",
    "    ax=ax\n",
    ")\n",
    "\n",
    "# Graficar top 10 con una escala de colores\n",
    "top10.plot(\n",
    "    column=\"n_hospitals_distr\",\n",
    "    cmap=\"Blues\",    \n",
    "    legend=True,\n",
    "    ax=ax,\n",
    "    edgecolor=\"black\",\n",
    "    linewidth=0.4\n",
    ")\n",
    "\n",
    "ax.set_title(\"Top 10 districts with the highest number of hospitals\", fontsize=14)\n",
    "ax.set_xlabel(\"Longitude\", fontsize=10)\n",
    "ax.set_ylabel(\"Latitude\", fontsize=10)\n",
    "\n",
    "# Etiqueta de la barra de color\n",
    "cbar = ax.get_figure().get_axes()[-1]\n",
    "cbar.set_ylabel(\"Number of Hospitals\", rotation=270, labelpad=20)\n",
    "\n",
    "plt.tight_layout()\n",
    "plt.show()"
   ]
  },
  {
   "cell_type": "markdown",
   "id": "9ee7584a-60cb-44a4-a2f0-c1b3c33ba17d",
   "metadata": {},
   "source": [
    "### Task 2: Department-level Analysis"
   ]
  },
  {
   "cell_type": "code",
   "execution_count": null,
   "id": "c72a94e3-31c4-481b-b3f1-59262467c100",
   "metadata": {},
   "outputs": [],
   "source": [
    "operational_hospitals_dept = (\n",
    "    operational_hospitals\n",
    "    .groupby(\"Departamento\")[\"n_hospitals_distr\"]\n",
    "    .sum()\n",
    "    .reset_index()\n",
    "    .rename(columns={\"n_hospitals_distr\": \"n_hospitals_dept\"})\n",
    ")\n",
    "operational_hospitals_dept\n",
    "operational_hospitals_dept.to_csv(\"summary_table.csv\", index=False)"
   ]
  },
  {
   "cell_type": "code",
   "execution_count": null,
   "id": "7eb04a01-5576-4239-81fa-1da30d7e486a",
   "metadata": {},
   "outputs": [],
   "source": [
    "# Department with the highest number of hospitals\n",
    "max_row = operational_hospitals_dept.loc[operational_hospitals_dept[\"n_hospitals_dept\"].idxmax()]\n",
    "\n",
    "# Department with the lowest number of hospitals\n",
    "min_row = operational_hospitals_dept.loc[operational_hospitals_dept[\"n_hospitals_dept\"].idxmin()]\n",
    "\n",
    "print(\"Department with the most hospitals:\")\n",
    "print(max_row[\"Departamento\"], \"-\", max_row[\"n_hospitals_dept\"])\n",
    "\n",
    "print(\"\\nDepartment with the fewest hospitals:\")\n",
    "print(min_row[\"Departamento\"], \"-\", min_row[\"n_hospitals_dept\"])"
   ]
  },
  {
   "cell_type": "markdown",
   "id": "b4a2f12b-8d63-4752-8e70-2b3a25d4641c",
   "metadata": {},
   "source": [
    "##### Summary table (sorted from highest to lowest)"
   ]
  },
  {
   "cell_type": "code",
   "execution_count": null,
   "id": "74b2a4c5-2a7e-4d74-99a6-76cece292021",
   "metadata": {},
   "outputs": [],
   "source": [
    "summary_table = (\n",
    "    operational_hospitals_dept[[\"Departamento\", \"n_hospitals_dept\"]]\n",
    "    .sort_values(by=\"n_hospitals_dept\", ascending=False)\n",
    "    .reset_index(drop=True)\n",
    ")\n",
    "\n",
    "print(summary_table)"
   ]
  },
  {
   "cell_type": "markdown",
   "id": "73f0e9c8-cf96-4081-91b9-2c8dbe692be0",
   "metadata": {},
   "source": [
    "##### Bar chart"
   ]
  },
  {
   "cell_type": "code",
   "execution_count": null,
   "id": "c2ddef34-4089-4b3c-abe8-d2891939736d",
   "metadata": {},
   "outputs": [],
   "source": [
    "plt.figure(figsize=(10,5))\n",
    "ax = sns.barplot(\n",
    "    data=summary_table,\n",
    "    x=\"Departamento\",\n",
    "    y=\"n_hospitals_dept\",\n",
    "    color=\"steelblue\"\n",
    ")\n",
    "\n",
    "plt.xticks(rotation=90)\n",
    "plt.xlabel(\"Department\")\n",
    "plt.ylabel(\"Number of Hospitals\")\n",
    "plt.title(\"Number of Hospitals by Department\")\n",
    "\n",
    "# Añadir etiquetas encima de cada barra\n",
    "for p in ax.patches:\n",
    "    ax.annotate(\n",
    "        format(p.get_height(), '.0f'),     \n",
    "        (p.get_x() + p.get_width() / 2., p.get_height()),\n",
    "        ha='center', va='bottom',        \n",
    "        fontsize=9, color='black', xytext=(0,1), textcoords='offset points'\n",
    "    )\n",
    "\n",
    "plt.tight_layout()\n",
    "plt.savefig(\"hospitals_dept_bars.png\",dpi=300, bbox_inches=\"tight\")\n",
    "plt.show()"
   ]
  },
  {
   "cell_type": "markdown",
   "id": "a7e78c41-bc2a-4897-9b8b-f2e9bf71227c",
   "metadata": {},
   "source": [
    "##### Department-level choropleth map"
   ]
  },
  {
   "cell_type": "code",
   "execution_count": null,
   "id": "dc1af309-76af-4e4e-a887-2f6d4d8ebfbb",
   "metadata": {},
   "outputs": [],
   "source": [
    "# Aggregate counts to department & dissolve geometry\n",
    "operational_hospitals_dept = (\n",
    "    hospitals_distr\n",
    "      .dissolve(\n",
    "          by=\"Departamento\",\n",
    "          aggfunc={\"n_hospitals_distr\": \"sum\"}\n",
    "      )\n",
    "      .rename(columns={\"n_hospitals_distr\": \"n_hospitals_dept\"})\n",
    "      .reset_index()\n",
    ")\n",
    "\n",
    "# Plot choropleth\n",
    "fig, ax = plt.subplots(1, 1, figsize=(12, 10))\n",
    "operational_hospitals_dept.plot(\n",
    "    column=\"n_hospitals_dept\",\n",
    "    cmap=\"Blues\",\n",
    "    legend=True,\n",
    "    edgecolor=\"black\",\n",
    "    linewidth=0.3,\n",
    "    ax=ax\n",
    ")\n",
    "\n",
    "ax.set_title(\"Hospitals by Department\", fontsize=14)\n",
    "ax.set_xlabel(\"Longitude\"); ax.set_ylabel(\"Latitude\")\n",
    "\n",
    "# Label for the colorbar\n",
    "cbar = ax.get_figure().get_axes()[-1]\n",
    "cbar.set_ylabel(\"Number of Hospitals\", rotation=270, labelpad=20)\n",
    "\n",
    "plt.tight_layout()\n",
    "plt.savefig(\"hospitals_dept_map.png\",dpi=300, bbox_inches=\"tight\")\n",
    "plt.show()"
   ]
  },
  {
   "cell_type": "markdown",
   "id": "0941b9d0-4dd2-4307-a077-6b9e6a064a22",
   "metadata": {},
   "source": [
    "# 3) Interactive Mapping with Folium"
   ]
  },
  {
   "cell_type": "markdown",
   "id": "6c5383c6-dd4e-4061-85b7-0365ef09b8ce",
   "metadata": {},
   "source": [
    "### Task 1: National Choropleth (District Level)"
   ]
  },
  {
   "cell_type": "code",
   "execution_count": null,
   "id": "84d267c7-d93e-49e5-85a4-32625015deb6",
   "metadata": {},
   "outputs": [],
   "source": [
    "# geodata en formato geojson\n",
    "geo_data=districts.to_json()"
   ]
  },
  {
   "cell_type": "code",
   "execution_count": null,
   "id": "f50633b5-c679-4ce5-a1ef-684e1caabc56",
   "metadata": {},
   "outputs": [],
   "source": [
    "from folium import Marker, GeoJson\n",
    "from folium.plugins import MarkerCluster"
   ]
  },
  {
   "cell_type": "code",
   "execution_count": null,
   "id": "b32ae957-214b-46d1-926b-becd622aa737",
   "metadata": {},
   "outputs": [],
   "source": [
    "# Center the map\n",
    "m = folium.Map(location=[-9.2, -75.0], zoom_start=5, tiles=\"cartodbpositron\")\n",
    "\n",
    "# Choropleth:\n",
    "ch = folium.Choropleth(\n",
    "    geo_data=geo_data,\n",
    "    name=\"Hospitals per district\",\n",
    "    data=by_distr,\n",
    "    columns=[\"UBIGEO\", \"n_hospitals_distr\"],\n",
    "    key_on=\"feature.properties.UBIGEO\",\n",
    "    fill_color=\"Blues\",\n",
    "    fill_opacity=0.8,\n",
    "    line_opacity=0.4,\n",
    "    nan_fill_color=\"lightgray\",\n",
    "    legend_name=\"Hospitals per district\"\n",
    ").add_to(m)\n",
    "\n",
    "# Cluster markers\n",
    "# Coordinates in a list\n",
    "hospitales = list(zip(operational_hospitals['ESTE'], operational_hospitals['NORTE']))\n",
    "\n",
    "# Cluster Map\n",
    "MarkerCluster(hospitales, name = 'Cluster').add_to(m)\n",
    "\n",
    "folium.LayerControl().add_to(m)\n",
    "m"
   ]
  }
 ],
 "metadata": {
  "kernelspec": {
   "display_name": "Python 3 (ipykernel)",
   "language": "python",
   "name": "python3"
  },
  "language_info": {
   "codemirror_mode": {
    "name": "ipython",
    "version": 3
   },
   "file_extension": ".py",
   "mimetype": "text/x-python",
   "name": "python",
   "nbconvert_exporter": "python",
   "pygments_lexer": "ipython3",
   "version": "3.11.13"
  }
 },
 "nbformat": 4,
 "nbformat_minor": 5
}
